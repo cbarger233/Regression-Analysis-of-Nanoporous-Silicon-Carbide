{
 "cells": [
  {
   "cell_type": "markdown",
   "id": "1513a730",
   "metadata": {},
   "source": [
    "# Regression Analysis of Hydrogenated Nanoporous Silicon Carbide Models\n",
    "\n",
    "This is data that I compiled myself while I was doing research for Dr. Blair Tuttle at Penn State Behrend and while I was in a Research Experience for Undergraduates (REU) program under Dr. Sokrates Pantelides at Vanderbilt University.\n",
    "\n",
    "Each row in the read-in Excel sheet represents one theoretical model of silicon carbide that has been altered to be nanoporous, with any dangling bonds being satisfied by placing a hydrogen atom at that location. Each model was relaxed with Density Functional theory (DFT) using the Vienna Ab initio Simulation Package (VASP) with a plane wave cutoff of 400 eV. This is esentially a way to solve the Schrödinger equation numerically. By solving the Schrödinger equation, we gain all sorts of insights about the electronic properties of compounds--in this case hydrogenated nanoporous silicon carbide. This data was either extracted or derived from the output of the VASP program.\n",
    "\n",
    "#### Variables Explanation\n",
    "\n",
    "- **Name**: name given to the compound. The numbers at the end represent the number of hydrogen atoms present in the model\n",
    "- **Band Gap**: The band gap of the compound - this is the feature we are trying to get a working model for\n",
    "- **n*SiC**: a derived variable that represents how many Si-C bonds were removed to make the model\n",
    "- **n_CH**: represents how many C-H bonds were added to make the model\n",
    "- **n_SiH**: represents how many Si-H bonds were added to make the model\n",
    "- **n_SiSi**: represents how many Si-Si bonds were added to make the model\n",
    "- **n_CC**: represents how many C-C bonds were added to make the model\n",
    "- **______ density**: represents the bond density of the given bond\n",
    "- **Mean, MAD, STD**: The mean, mean average deviation, and standard deviation of the given bond types\n",
    "- **Percent__**: percent of the given atom in the compound\n",
    "- **Density**: density, need I say more?\n",
    "- **Volume**: volume of the theoretical compound\n",
    "- **Free Energy**: free energy of the compound\n",
    "- **__C or __Si**: number of Carbon or Silicon clusters of size __ found in the model. These are the number of Carbon or Silicon atoms that are all connected together in the structure."
   ]
  },
  {
   "cell_type": "code",
   "execution_count": 24,
   "id": "bad1c00c",
   "metadata": {},
   "outputs": [],
   "source": [
    "import numpy as np\n",
    "import pandas as pd\n",
    "import string"
   ]
  },
  {
   "cell_type": "code",
   "execution_count": 25,
   "id": "f73f4a8b",
   "metadata": {},
   "outputs": [
    {
     "data": {
      "text/plain": [
       "Index(['Name', ' Band Gap (eV)', ' n*_SiC', ' n_CH', ' n_SiH', ' n_SiSi',\n",
       "       ' n_CC', ' SiC density', ' CH density', ' SiH density', ' SiSi density',\n",
       "       ' CC density', ' HH density', ' Mean SiSi Length', ' MAD SiSi',\n",
       "       ' STD SiSi', ' Mean CC Length', ' MAD CC', ' STD CC',\n",
       "       ' Mean SiC Length', ' MAD SiC', ' STD SiC', ' PercentC', ' PercentSi',\n",
       "       ' PercentH', ' Density(g/cm^3)', ' Volume(cm^3)', ' Free Energy', ' 1C',\n",
       "       ' 2C', ' 3C', ' 4C', ' 5C', ' 6C', ' 7C', ' 8C', ' 9C', ' 10C', ' 11C',\n",
       "       ' 1Si', ' 2Si', ' 3Si', ' 4Si', ' 5Si', ' 6Si', ' 7Si', ' 8Si', ' 9Si',\n",
       "       ' 10Si', ' 11Si'],\n",
       "      dtype='object')"
      ]
     },
     "execution_count": 25,
     "metadata": {},
     "output_type": "execute_result"
    }
   ],
   "source": [
    "df = pd.read_excel('data.xlsx')\n",
    "df.head()\n",
    "df.columns"
   ]
  },
  {
   "cell_type": "code",
   "execution_count": 26,
   "id": "1f1f1f47",
   "metadata": {},
   "outputs": [],
   "source": [
    "df[[' Band Gap (eV)', ' n*_SiC', ' n_CH', ' n_SiH', ' n_SiSi',\n",
    "       ' n_CC', ' SiC density', ' CH density', ' SiH density', ' SiSi density',\n",
    "       ' CC density', ' HH density', ' Mean SiSi Length', ' MAD SiSi',\n",
    "       ' STD SiSi', ' Mean CC Length', ' MAD CC', ' STD CC',\n",
    "       ' Mean SiC Length', ' MAD SiC', ' STD SiC', ' PercentC', ' PercentSi',\n",
    "       ' PercentH', ' Density(g/cm^3)', ' Volume(cm^3)', ' Free Energy', ' 1C',\n",
    "       ' 2C', ' 3C', ' 4C', ' 5C', ' 6C', ' 7C', ' 8C', ' 9C', ' 10C', ' 11C',\n",
    "       ' 1Si', ' 2Si', ' 3Si', ' 4Si', ' 5Si', ' 6Si', ' 7Si', ' 8Si', ' 9Si',\n",
    "       ' 10Si', ' 11Si']] = df[[' Band Gap (eV)', ' n*_SiC', ' n_CH', ' n_SiH', ' n_SiSi',\n",
    "       ' n_CC', ' SiC density', ' CH density', ' SiH density', ' SiSi density',\n",
    "       ' CC density', ' HH density', ' Mean SiSi Length', ' MAD SiSi',\n",
    "       ' STD SiSi', ' Mean CC Length', ' MAD CC', ' STD CC',\n",
    "       ' Mean SiC Length', ' MAD SiC', ' STD SiC', ' PercentC', ' PercentSi',\n",
    "       ' PercentH', ' Density(g/cm^3)', ' Volume(cm^3)', ' Free Energy', ' 1C',\n",
    "       ' 2C', ' 3C', ' 4C', ' 5C', ' 6C', ' 7C', ' 8C', ' 9C', ' 10C', ' 11C',\n",
    "       ' 1Si', ' 2Si', ' 3Si', ' 4Si', ' 5Si', ' 6Si', ' 7Si', ' 8Si', ' 9Si',\n",
    "       ' 10Si', ' 11Si']].apply(pd.to_numeric)"
   ]
  },
  {
   "cell_type": "code",
   "execution_count": 27,
   "id": "eea6b251",
   "metadata": {},
   "outputs": [],
   "source": [
    "df_linear_regression = df[[' Band Gap (eV)', ' n*_SiC', ' n_CH', ' n_SiH', ' n_SiSi', ' n_CC']]"
   ]
  },
  {
   "cell_type": "code",
   "execution_count": 28,
   "id": "71645a4c",
   "metadata": {},
   "outputs": [
    {
     "data": {
      "text/html": [
       "<div>\n",
       "<style scoped>\n",
       "    .dataframe tbody tr th:only-of-type {\n",
       "        vertical-align: middle;\n",
       "    }\n",
       "\n",
       "    .dataframe tbody tr th {\n",
       "        vertical-align: top;\n",
       "    }\n",
       "\n",
       "    .dataframe thead th {\n",
       "        text-align: right;\n",
       "    }\n",
       "</style>\n",
       "<table border=\"1\" class=\"dataframe\">\n",
       "  <thead>\n",
       "    <tr style=\"text-align: right;\">\n",
       "      <th></th>\n",
       "      <th>Band Gap (eV)</th>\n",
       "      <th>n*_SiC</th>\n",
       "      <th>n_CH</th>\n",
       "      <th>n_SiH</th>\n",
       "      <th>n_SiSi</th>\n",
       "      <th>n_CC</th>\n",
       "    </tr>\n",
       "  </thead>\n",
       "  <tbody>\n",
       "    <tr>\n",
       "      <th>0</th>\n",
       "      <td>1.34551</td>\n",
       "      <td>6.730000e-07</td>\n",
       "      <td>0.000000</td>\n",
       "      <td>0.0</td>\n",
       "      <td>0.0</td>\n",
       "      <td>0.0</td>\n",
       "    </tr>\n",
       "    <tr>\n",
       "      <th>1</th>\n",
       "      <td>1.39846</td>\n",
       "      <td>9.259930e-03</td>\n",
       "      <td>0.009259</td>\n",
       "      <td>0.0</td>\n",
       "      <td>0.0</td>\n",
       "      <td>0.0</td>\n",
       "    </tr>\n",
       "    <tr>\n",
       "      <th>2</th>\n",
       "      <td>1.49872</td>\n",
       "      <td>3.703770e-02</td>\n",
       "      <td>0.027778</td>\n",
       "      <td>0.0</td>\n",
       "      <td>0.0</td>\n",
       "      <td>0.0</td>\n",
       "    </tr>\n",
       "    <tr>\n",
       "      <th>3</th>\n",
       "      <td>1.65507</td>\n",
       "      <td>7.407470e-02</td>\n",
       "      <td>0.055556</td>\n",
       "      <td>0.0</td>\n",
       "      <td>0.0</td>\n",
       "      <td>0.0</td>\n",
       "    </tr>\n",
       "    <tr>\n",
       "      <th>4</th>\n",
       "      <td>1.63003</td>\n",
       "      <td>9.259320e-02</td>\n",
       "      <td>0.064815</td>\n",
       "      <td>0.0</td>\n",
       "      <td>0.0</td>\n",
       "      <td>0.0</td>\n",
       "    </tr>\n",
       "  </tbody>\n",
       "</table>\n",
       "</div>"
      ],
      "text/plain": [
       "    Band Gap (eV)        n*_SiC      n_CH   n_SiH   n_SiSi   n_CC\n",
       "0         1.34551  6.730000e-07  0.000000     0.0      0.0    0.0\n",
       "1         1.39846  9.259930e-03  0.009259     0.0      0.0    0.0\n",
       "2         1.49872  3.703770e-02  0.027778     0.0      0.0    0.0\n",
       "3         1.65507  7.407470e-02  0.055556     0.0      0.0    0.0\n",
       "4         1.63003  9.259320e-02  0.064815     0.0      0.0    0.0"
      ]
     },
     "execution_count": 28,
     "metadata": {},
     "output_type": "execute_result"
    }
   ],
   "source": [
    "df_linear_regression.head()"
   ]
  },
  {
   "cell_type": "code",
   "execution_count": 29,
   "id": "2a08180f",
   "metadata": {},
   "outputs": [
    {
     "data": {
      "text/plain": [
       "69     1.32051\n",
       "138    2.11921\n",
       "2      1.49872\n",
       "93     1.42864\n",
       "136    2.24220\n",
       "        ...   \n",
       "71     1.27574\n",
       "106    1.29739\n",
       "14     1.46032\n",
       "92     1.40752\n",
       "102    1.59785\n",
       "Name:  Band Gap (eV), Length: 136, dtype: float64"
      ]
     },
     "execution_count": 29,
     "metadata": {},
     "output_type": "execute_result"
    }
   ],
   "source": [
    "from sklearn.model_selection import train_test_split\n",
    "\n",
    "train, test = train_test_split(df_linear_regression, test_size=0.2, random_state = 42)\n",
    "train_x = train[[' n*_SiC', ' n_CH', ' n_SiH', ' n_SiSi', ' n_CC']]\n",
    "train_y = train[' Band Gap (eV)']\n",
    "test_x = test[[' n*_SiC', ' n_CH', ' n_SiH', ' n_SiSi', ' n_CC']]\n",
    "test_y = test[' Band Gap (eV)']\n",
    "train_y"
   ]
  },
  {
   "cell_type": "markdown",
   "id": "fbd7c499",
   "metadata": {},
   "source": [
    "# Linear Regression"
   ]
  },
  {
   "cell_type": "code",
   "execution_count": 30,
   "id": "3389e14f",
   "metadata": {},
   "outputs": [
    {
     "name": "stdout",
     "output_type": "stream",
     "text": [
      "Coefficients: [ 3.6657222  -2.33421087 -5.05257224 -8.93304719 -5.04693533]\n",
      "Intercept: 1.3445698169431122\n"
     ]
    }
   ],
   "source": [
    "#trying n-nearest neighbors regression from 1 to 8\n",
    "from sklearn.linear_model import LinearRegression\n",
    "from matplotlib import pyplot as plt\n",
    "%matplotlib inline\n",
    "\n",
    "lr = LinearRegression().fit(train_x, train_y)\n",
    "print('Coefficients:', lr.coef_)\n",
    "print('Intercept:', lr.intercept_)"
   ]
  },
  {
   "cell_type": "markdown",
   "id": "54b0f103",
   "metadata": {},
   "source": [
    "### $R^2$ Scores Linear Regression"
   ]
  },
  {
   "cell_type": "code",
   "execution_count": 31,
   "id": "79584e0e",
   "metadata": {},
   "outputs": [
    {
     "name": "stdout",
     "output_type": "stream",
     "text": [
      "Training set score: 0.6341357289251135\n",
      "Test set score: 0.630484553928895\n"
     ]
    },
    {
     "data": {
      "image/png": "[encoded data removed]",
      "text/plain": [
       "<Figure size 432x288 with 1 Axes>"
      ]
     },
     "metadata": {
      "needs_background": "light"
     },
     "output_type": "display_data"
    }
   ],
   "source": [
    "print('Training set score:', lr.score(train_x, train_y))\n",
    "print('Test set score:', lr.score(test_x, test_y))\n",
    "\n",
    "plt.scatter(lr.predict(test_x), test_y)\n",
    "plt.plot([0.7,2.2], [0.7,2.2])\n",
    "plt.xlabel('Linear Regression Predicted Band Gaps (eV)')\n",
    "plt.ylabel('Actual Band Gap (eV)')\n",
    "plt.show()"
   ]
  },
  {
   "cell_type": "markdown",
   "id": "66e2e72e",
   "metadata": {},
   "source": [
    "The $R^2$ scores are not good, but there isn't a large discrepancy between the training set and the test set, meaning we aren't overfitting on the training set too much. Let's try some other types of regression. Physically, this basic linear model makes sense though since the y-intercept is extraordinarily close to the band gap (in eV) of crystalline silicon carbide, which is what we would expect from first-order perturbation theory."
   ]
  },
  {
   "cell_type": "markdown",
   "id": "c0984711",
   "metadata": {},
   "source": [
    "# Ridge Regression\n",
    "\n",
    "Ridge regression is based on the principle that we want all of our independent variables to have as little affect on the outcome as possible. This means that all of our linear coefficients will be as close to zero as we can possibly make them. I expect this type of model for our problem not to be as physically feasible as the regular linear regression. The y-intercept most likely will be higher than the band gap for crystalline silicon carbide since all of the linear coefficients will be smaller."
   ]
  },
  {
   "cell_type": "code",
   "execution_count": 32,
   "id": "5c90debb",
   "metadata": {},
   "outputs": [
    {
     "name": "stdout",
     "output_type": "stream",
     "text": [
      "Coefficients: [-0.20886134  0.36392665  0.08959599 -1.62205234 -0.15133655]\n",
      "Intercept: 1.7629110311567195\n",
      "Training set score: 0.2765939866254259\n",
      "Test set score: 0.3158668791134096\n"
     ]
    }
   ],
   "source": [
    "from sklearn.linear_model import Ridge\n",
    "\n",
    "ridge = Ridge().fit(train_x, train_y)\n",
    "\n",
    "print('Coefficients:', ridge.coef_)\n",
    "print('Intercept:', ridge.intercept_)\n",
    "\n",
    "print('Training set score:', ridge.score(train_x, train_y))\n",
    "print('Test set score:', ridge.score(test_x, test_y))"
   ]
  },
  {
   "cell_type": "markdown",
   "id": "e6640447",
   "metadata": {},
   "source": [
    "As predicted, the y-intercept for the ridge regression model is higher than that of the linear regression model. This also does not give us good results, as the $R^2$ values are low for both the training set and the test sets.\n",
    "\n",
    "### Different values of alpha for ridge regression\n",
    "\n",
    "With ridge regression, a default alpha value of 1.0 is used. The higher the alpha value, the more restricted the model is, and the closer the coefficients will be to zero. The closer alpha gets to zero, the more ridge regression resembles linear regression, which allows the variables more freedom."
   ]
  },
  {
   "cell_type": "code",
   "execution_count": 33,
   "id": "0cc32552",
   "metadata": {},
   "outputs": [
    {
     "name": "stdout",
     "output_type": "stream",
     "text": [
      "Coefficients: [ 0.91922108  1.14762323  0.37804698 -4.96442484 -2.17220967]\n",
      "Intercept: 1.4862874309497776\n",
      "Training set score: 0.5566615619452626\n",
      "Test set score: 0.5987169011177145\n"
     ]
    }
   ],
   "source": [
    "# alpha = 0.1\n",
    "ridge01 = Ridge(alpha=0.1).fit(train_x, train_y)\n",
    "\n",
    "print('Coefficients:', ridge01.coef_)\n",
    "print('Intercept:', ridge01.intercept_)\n",
    "\n",
    "print('Training set score:', ridge01.score(train_x, train_y))\n",
    "print('Test set score:', ridge01.score(test_x, test_y))"
   ]
  },
  {
   "cell_type": "code",
   "execution_count": 34,
   "id": "b2f9c1f5",
   "metadata": {},
   "outputs": [
    {
     "name": "stdout",
     "output_type": "stream",
     "text": [
      "Coefficients: [ 2.42009793  0.105312   -1.64942936 -7.53594331 -4.24572572]\n",
      "Intercept: 1.3181391285889221\n",
      "Training set score: 0.6264301675443031\n",
      "Test set score: 0.6457115157561824\n"
     ]
    }
   ],
   "source": [
    "# alpha = 0.01\n",
    "ridge001 = Ridge(alpha=0.01).fit(train_x, train_y)\n",
    "\n",
    "print('Coefficients:', ridge001.coef_)\n",
    "print('Intercept:', ridge001.intercept_)\n",
    "\n",
    "print('Training set score:', ridge001.score(train_x, train_y))\n",
    "print('Test set score:', ridge001.score(test_x, test_y))"
   ]
  },
  {
   "cell_type": "markdown",
   "id": "46624888",
   "metadata": {},
   "source": [
    "So it seems that the best regression of the two types we've tried so far is just plain 'ol linear regression, as predicted earlier."
   ]
  },
  {
   "cell_type": "markdown",
   "id": "364cf4d8",
   "metadata": {},
   "source": [
    "# Decision Tree Regressor\n",
    "\n",
    "A decision tree, and maybe even a random forest, might work well on our data if we include all of the data included in our spreadsheet. Let's first try applying it to the values we applied linear and ridge regression to to try to keep the model as simple as possible."
   ]
  },
  {
   "cell_type": "code",
   "execution_count": 35,
   "id": "f06c5549",
   "metadata": {},
   "outputs": [
    {
     "name": "stdout",
     "output_type": "stream",
     "text": [
      "Training set score: 0.6824828561657154\n",
      "Test set score: 0.660278693264003\n"
     ]
    }
   ],
   "source": [
    "from sklearn.tree import DecisionTreeRegressor\n",
    "\n",
    "tree = DecisionTreeRegressor(max_depth=3).fit(train_x, train_y)\n",
    "\n",
    "print('Training set score:', tree.score(train_x, train_y))\n",
    "print('Test set score:', tree.score(test_x, test_y))"
   ]
  },
  {
   "cell_type": "markdown",
   "id": "65ab5c67",
   "metadata": {},
   "source": [
    "The decision tree performs slightly better than the linear regression model; however, this is a decision tree with a depth of only 3. The depth is how many consecutive questions the tree is trained to ask before it reaches a decision. The greater the depth, the more prone the model is to overfitting, so we have to proceed with caution. Often times, a lower depth will generalize a lot better to the test set. Let's take a look at the effect depth has on the accuracy of our model."
   ]
  },
  {
   "cell_type": "code",
   "execution_count": 36,
   "id": "cc7530ba",
   "metadata": {},
   "outputs": [
    {
     "name": "stdout",
     "output_type": "stream",
     "text": [
      "[0. 0. 0. 1. 0.]\n",
      "[0.        0.        0.        0.7735097 0.2264903]\n",
      "[0.15448962 0.         0.03369389 0.63058895 0.18122754]\n",
      "[0.15954066 0.01106547 0.02864983 0.59307152 0.20767252]\n",
      "[0.16237691 0.06689129 0.03702244 0.55649843 0.17721092]\n",
      "[0.20411084 0.02294648 0.02870321 0.53039376 0.21384571]\n",
      "[0.21402754 0.027431   0.02510893 0.52412318 0.20930935]\n",
      "[0.27248772 0.03018399 0.03160267 0.50412332 0.16160231]\n",
      "[0.2230169  0.03496259 0.03526569 0.5026011  0.20415372]\n",
      "[0.21134302 0.076751   0.05084727 0.50356947 0.15748923]\n"
     ]
    },
    {
     "data": {
      "image/png": "[encoded data removed]",
      "text/plain": [
       "<Figure size 432x288 with 1 Axes>"
      ]
     },
     "metadata": {
      "needs_background": "light"
     },
     "output_type": "display_data"
    }
   ],
   "source": [
    "depths = range(1,11) #10 different tree depths\n",
    "test_accuracy = [] #test set accuracies\n",
    "\n",
    "for depth in depths:\n",
    "    tree = DecisionTreeRegressor(max_depth=depth).fit(train_x, train_y)\n",
    "    test_accuracy.append(tree.score(test_x, test_y))\n",
    "    print(tree.feature_importances_)\n",
    "    \n",
    "plt.plot(depths, test_accuracy)\n",
    "plt.xlabel('Tree Depth')\n",
    "plt.ylabel('$R^2$')\n",
    "plt.title('Accuracy of Tree Depths')\n",
    "plt.show()"
   ]
  },
  {
   "cell_type": "markdown",
   "id": "fc667277",
   "metadata": {},
   "source": [
    "It looks like our decision tree regressor is most accurate when the tree depth is equal to three. So we made the right arbitrary decision a few cells up. Let's try a decision tree regressor with more of the data we have collected in our Excel file."
   ]
  },
  {
   "cell_type": "code",
   "execution_count": 70,
   "id": "69f2e9c0",
   "metadata": {},
   "outputs": [
    {
     "data": {
      "image/png": "[encoded data removed]",
      "text/plain": [
       "<Figure size 432x288 with 1 Axes>"
      ]
     },
     "metadata": {
      "needs_background": "light"
     },
     "output_type": "display_data"
    }
   ],
   "source": [
    "train, test = train_test_split(df, test_size=0.2, random_state = 42)\n",
    "train_x = train[[' n*_SiC', ' n_CH', ' n_SiH', ' n_SiSi',\n",
    "       ' n_CC', ' SiC density', ' CH density', ' SiH density', ' SiSi density',\n",
    "       ' CC density', ' HH density', ' PercentC', ' PercentSi',\n",
    "       ' PercentH', ' Density(g/cm^3)', ' Volume(cm^3)', ' Free Energy']]\n",
    "train_y = train[' Band Gap (eV)']\n",
    "test_x = test[[' n*_SiC', ' n_CH', ' n_SiH', ' n_SiSi',\n",
    "       ' n_CC', ' SiC density', ' CH density', ' SiH density', ' SiSi density',\n",
    "       ' CC density', ' HH density', ' PercentC', ' PercentSi',\n",
    "       ' PercentH', ' Density(g/cm^3)', ' Volume(cm^3)', ' Free Energy']]\n",
    "test_y = test[' Band Gap (eV)']\n",
    "\n",
    "depths = range(1,16) #10 different tree depths\n",
    "test_accuracy = [] #test set accuracies\n",
    "\n",
    "for depth in depths:\n",
    "    tree = DecisionTreeRegressor(max_depth=depth).fit(train_x, train_y)\n",
    "    test_accuracy.append(tree.score(test_x, test_y))\n",
    "    \n",
    "plt.plot(depths, test_accuracy)\n",
    "plt.xlabel('Tree Depth')\n",
    "plt.ylabel('$R^2$')\n",
    "plt.title('Accuracy of Tree Depths')\n",
    "plt.show()"
   ]
  },
  {
   "cell_type": "markdown",
   "id": "11bb07c1",
   "metadata": {},
   "source": [
    "It looks like the sweet spot for our tree depth would be anywhere between 5 and 9. Anything lower than that and our scores aren't too high. Anything more would be unpredictable.\n",
    "\n",
    "Let's take a look at the feature importances to see if there is anything we can afford to leave out of the model without sacrificing accuracy on the test set."
   ]
  },
  {
   "cell_type": "code",
   "execution_count": 85,
   "id": "622b8c1a",
   "metadata": {},
   "outputs": [
    {
     "name": "stdout",
     "output_type": "stream",
     "text": [
      "[5.34776034e-02 8.01765067e-03 1.99253821e-04 4.66624815e-01\n",
      " 0.00000000e+00 3.42614515e-03 1.36570863e-02 4.23989700e-02\n",
      " 1.71460937e-03 1.59712575e-01 0.00000000e+00 2.51316398e-02\n",
      " 1.30753535e-01 1.72804362e-02 5.10771190e-02 0.00000000e+00\n",
      " 2.65285612e-02]\n"
     ]
    }
   ],
   "source": [
    "tree = DecisionTreeRegressor(max_depth=6).fit(train_x, train_y)\n",
    "print(tree.feature_importances_)"
   ]
  },
  {
   "cell_type": "markdown",
   "id": "cd29c8bf",
   "metadata": {},
   "source": [
    "After running the above cell multiple times, one feature that always has low importance is the volume. We can afford to remove this without affecting the accuracy of the decision tree. We can plot the feature importances of each of the features for comparison."
   ]
  },
  {
   "cell_type": "code",
   "execution_count": 86,
   "id": "fb8592c0",
   "metadata": {},
   "outputs": [
    {
     "data": {
      "image/png": "[encoded data removed]",
      "text/plain": [
       "<Figure size 432x288 with 1 Axes>"
      ]
     },
     "metadata": {
      "needs_background": "light"
     },
     "output_type": "display_data"
    }
   ],
   "source": [
    "def plot_feature_importances(model):\n",
    "    n_features = train_x.shape[1]\n",
    "    plt.barh(np.arange(n_features), model.feature_importances_, align='center')\n",
    "    plt.yticks(np.arange(n_features), [' n*_SiC', ' n_CH', ' n_SiH', ' n_SiSi',\n",
    "       ' n_CC', ' SiC density', ' CH density', ' SiH density', ' SiSi density',\n",
    "       ' CC density', ' HH density', ' PercentC', ' PercentSi',\n",
    "       ' PercentH', ' Density(g/cm^3)', ' Volume(cm^3)', ' Free Energy'])\n",
    "    plt.xlabel('Feature Importance')\n",
    "    plt.ylabel('Feature')\n",
    "    plt.ylim(-1, n_features)\n",
    "    plt.show()\n",
    "\n",
    "plot_feature_importances(tree)"
   ]
  },
  {
   "cell_type": "markdown",
   "id": "b85b4c45",
   "metadata": {},
   "source": [
    "We can see in the above plot that Volume has no importance in the model as well as a few other features. Now, just because a feature was not picked does not mean that it isn't an important feature as far as data goes. It just means that the decision tree decided not to use it, maybe because it contains the same information as another feature. When building a decision tree it is very possible to get a drastically different tree each time you train a model. To counteract this, we can try building a random forest, which is an ensemble on many different decision trees trained on the same dataset. With a random forest, we can negate any bias introduced in any singular tree.\n",
    "\n",
    "# Random Forest"
   ]
  },
  {
   "cell_type": "code",
   "execution_count": 92,
   "id": "16eb8071",
   "metadata": {},
   "outputs": [
    {
     "name": "stdout",
     "output_type": "stream",
     "text": [
      "0.7918322139531084\n"
     ]
    }
   ],
   "source": [
    "from sklearn.ensemble import RandomForestRegressor\n",
    "\n",
    "forest = RandomForestRegressor(n_estimators=15).fit(train_x, train_y)\n",
    "print(forest.score(test_x, test_y))"
   ]
  },
  {
   "cell_type": "markdown",
   "id": "b1de3de4",
   "metadata": {},
   "source": [
    "Above was a random forest initiated with 15 different decision trees. Similar to what we did with decision trees, let's see if we can optimize the number of trees to put in the forest."
   ]
  },
  {
   "cell_type": "code",
   "execution_count": 98,
   "id": "9d07cecb",
   "metadata": {},
   "outputs": [
    {
     "data": {
      "image/png": "[encoded data removed]",
      "text/plain": [
       "<Figure size 432x288 with 1 Axes>"
      ]
     },
     "metadata": {
      "needs_background": "light"
     },
     "output_type": "display_data"
    }
   ],
   "source": [
    "trees = range(1, 40, 2)\n",
    "r_squared = []\n",
    "for tree in trees:\n",
    "    forest = RandomForestRegressor(n_estimators=tree, max_depth=7).fit(train_x, train_y)\n",
    "    r_squared.append(forest.score(test_x, test_y))\n",
    "\n",
    "plt.plot(trees, r_squared)\n",
    "plt.xlabel('Number of Trees')\n",
    "plt.ylabel('$R^2$')\n",
    "plt.title('Accuracy for Number of Trees Used')\n",
    "plt.show()"
   ]
  },
  {
   "cell_type": "markdown",
   "id": "33db5453",
   "metadata": {},
   "source": [
    "Okay, so it looks like we reach the optimal number of trees once we reach around 5 or 6 of them at a tree depth of 7. Another thing to note in this graph is that the random forest barely outperforms the decision trees, if at all. Thus when predicting the band gaps of silicon carbide based on the features used in these models so far, it might be best to stick with a simple decision tree, for more simplicity."
   ]
  }
 ],
 "metadata": {
  "kernelspec": {
   "display_name": "Python 3",
   "language": "python",
   "name": "python3"
  },
  "language_info": {
   "codemirror_mode": {
    "name": "ipython",
    "version": 3
   },
   "file_extension": ".py",
   "mimetype": "text/x-python",
   "name": "python",
   "nbconvert_exporter": "python",
   "pygments_lexer": "ipython3",
   "version": "3.8.8"
  }
 },
 "nbformat": 4,
 "nbformat_minor": 5
}
